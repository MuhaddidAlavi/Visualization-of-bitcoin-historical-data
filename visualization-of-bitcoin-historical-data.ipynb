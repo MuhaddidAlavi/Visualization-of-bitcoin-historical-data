{
 "cells": [
  {
   "cell_type": "code",
   "execution_count": 1,
   "id": "e3affe6f",
   "metadata": {
    "_cell_guid": "b1076dfc-b9ad-4769-8c92-a6c4dae69d19",
    "_uuid": "8f2839f25d086af736a60e9eeb907d3b93b6e0e5",
    "execution": {
     "iopub.execute_input": "2021-11-07T19:14:11.179195Z",
     "iopub.status.busy": "2021-11-07T19:14:11.174579Z",
     "iopub.status.idle": "2021-11-07T19:14:12.227119Z",
     "shell.execute_reply": "2021-11-07T19:14:12.226367Z",
     "shell.execute_reply.started": "2021-11-07T18:58:12.780062Z"
    },
    "papermill": {
     "duration": 1.070951,
     "end_time": "2021-11-07T19:14:12.227334",
     "exception": false,
     "start_time": "2021-11-07T19:14:11.156383",
     "status": "completed"
    },
    "tags": []
   },
   "outputs": [],
   "source": [
    "import numpy as np\n",
    "import pandas as pd\n",
    "import matplotlib.pyplot as plt\n",
    "import seaborn as sns# This Python 3 environment comes with many helpful analytics libraries installed\n"
   ]
  },
  {
   "cell_type": "code",
   "execution_count": 2,
   "id": "5fbaa9da",
   "metadata": {
    "execution": {
     "iopub.execute_input": "2021-11-07T19:14:12.249316Z",
     "iopub.status.busy": "2021-11-07T19:14:12.248603Z",
     "iopub.status.idle": "2021-11-07T19:14:19.815008Z",
     "shell.execute_reply": "2021-11-07T19:14:19.814262Z",
     "shell.execute_reply.started": "2021-11-07T18:58:50.288363Z"
    },
    "papermill": {
     "duration": 7.580064,
     "end_time": "2021-11-07T19:14:19.815180",
     "exception": false,
     "start_time": "2021-11-07T19:14:12.235116",
     "status": "completed"
    },
    "tags": []
   },
   "outputs": [],
   "source": [
    "df = pd.read_csv(\"../input/bitcoin-historical-data/bitstampUSD_1-min_data_2012-01-01_to_2021-03-31.csv\")"
   ]
  },
  {
   "cell_type": "code",
   "execution_count": 3,
   "id": "845c73ef",
   "metadata": {
    "execution": {
     "iopub.execute_input": "2021-11-07T19:14:19.839880Z",
     "iopub.status.busy": "2021-11-07T19:14:19.838761Z",
     "iopub.status.idle": "2021-11-07T19:14:19.858780Z",
     "shell.execute_reply": "2021-11-07T19:14:19.859329Z",
     "shell.execute_reply.started": "2021-11-07T18:59:17.052415Z"
    },
    "papermill": {
     "duration": 0.036816,
     "end_time": "2021-11-07T19:14:19.859509",
     "exception": false,
     "start_time": "2021-11-07T19:14:19.822693",
     "status": "completed"
    },
    "tags": []
   },
   "outputs": [
    {
     "data": {
      "text/html": [
       "<div>\n",
       "<style scoped>\n",
       "    .dataframe tbody tr th:only-of-type {\n",
       "        vertical-align: middle;\n",
       "    }\n",
       "\n",
       "    .dataframe tbody tr th {\n",
       "        vertical-align: top;\n",
       "    }\n",
       "\n",
       "    .dataframe thead th {\n",
       "        text-align: right;\n",
       "    }\n",
       "</style>\n",
       "<table border=\"1\" class=\"dataframe\">\n",
       "  <thead>\n",
       "    <tr style=\"text-align: right;\">\n",
       "      <th></th>\n",
       "      <th>Timestamp</th>\n",
       "      <th>Open</th>\n",
       "      <th>High</th>\n",
       "      <th>Low</th>\n",
       "      <th>Close</th>\n",
       "      <th>Volume_(BTC)</th>\n",
       "      <th>Volume_(Currency)</th>\n",
       "      <th>Weighted_Price</th>\n",
       "    </tr>\n",
       "  </thead>\n",
       "  <tbody>\n",
       "    <tr>\n",
       "      <th>0</th>\n",
       "      <td>1325317920</td>\n",
       "      <td>4.39</td>\n",
       "      <td>4.39</td>\n",
       "      <td>4.39</td>\n",
       "      <td>4.39</td>\n",
       "      <td>0.455581</td>\n",
       "      <td>2.0</td>\n",
       "      <td>4.39</td>\n",
       "    </tr>\n",
       "    <tr>\n",
       "      <th>1</th>\n",
       "      <td>1325317980</td>\n",
       "      <td>NaN</td>\n",
       "      <td>NaN</td>\n",
       "      <td>NaN</td>\n",
       "      <td>NaN</td>\n",
       "      <td>NaN</td>\n",
       "      <td>NaN</td>\n",
       "      <td>NaN</td>\n",
       "    </tr>\n",
       "    <tr>\n",
       "      <th>2</th>\n",
       "      <td>1325318040</td>\n",
       "      <td>NaN</td>\n",
       "      <td>NaN</td>\n",
       "      <td>NaN</td>\n",
       "      <td>NaN</td>\n",
       "      <td>NaN</td>\n",
       "      <td>NaN</td>\n",
       "      <td>NaN</td>\n",
       "    </tr>\n",
       "    <tr>\n",
       "      <th>3</th>\n",
       "      <td>1325318100</td>\n",
       "      <td>NaN</td>\n",
       "      <td>NaN</td>\n",
       "      <td>NaN</td>\n",
       "      <td>NaN</td>\n",
       "      <td>NaN</td>\n",
       "      <td>NaN</td>\n",
       "      <td>NaN</td>\n",
       "    </tr>\n",
       "    <tr>\n",
       "      <th>4</th>\n",
       "      <td>1325318160</td>\n",
       "      <td>NaN</td>\n",
       "      <td>NaN</td>\n",
       "      <td>NaN</td>\n",
       "      <td>NaN</td>\n",
       "      <td>NaN</td>\n",
       "      <td>NaN</td>\n",
       "      <td>NaN</td>\n",
       "    </tr>\n",
       "  </tbody>\n",
       "</table>\n",
       "</div>"
      ],
      "text/plain": [
       "    Timestamp  Open  High   Low  Close  Volume_(BTC)  Volume_(Currency)  \\\n",
       "0  1325317920  4.39  4.39  4.39   4.39      0.455581                2.0   \n",
       "1  1325317980   NaN   NaN   NaN    NaN           NaN                NaN   \n",
       "2  1325318040   NaN   NaN   NaN    NaN           NaN                NaN   \n",
       "3  1325318100   NaN   NaN   NaN    NaN           NaN                NaN   \n",
       "4  1325318160   NaN   NaN   NaN    NaN           NaN                NaN   \n",
       "\n",
       "   Weighted_Price  \n",
       "0            4.39  \n",
       "1             NaN  \n",
       "2             NaN  \n",
       "3             NaN  \n",
       "4             NaN  "
      ]
     },
     "execution_count": 3,
     "metadata": {},
     "output_type": "execute_result"
    }
   ],
   "source": [
    "df.head(5)"
   ]
  },
  {
   "cell_type": "code",
   "execution_count": 4,
   "id": "ae0a34f0",
   "metadata": {
    "execution": {
     "iopub.execute_input": "2021-11-07T19:14:19.898514Z",
     "iopub.status.busy": "2021-11-07T19:14:19.897706Z",
     "iopub.status.idle": "2021-11-07T19:14:45.214343Z",
     "shell.execute_reply": "2021-11-07T19:14:45.213822Z",
     "shell.execute_reply.started": "2021-11-07T19:02:17.831023Z"
    },
    "papermill": {
     "duration": 25.347092,
     "end_time": "2021-11-07T19:14:45.214485",
     "exception": false,
     "start_time": "2021-11-07T19:14:19.867393",
     "status": "completed"
    },
    "tags": []
   },
   "outputs": [
    {
     "name": "stderr",
     "output_type": "stream",
     "text": [
      "/opt/conda/lib/python3.7/site-packages/seaborn/distributions.py:2619: FutureWarning: `distplot` is a deprecated function and will be removed in a future version. Please adapt your code to use either `displot` (a figure-level function with similar flexibility) or `histplot` (an axes-level function for histograms).\n",
      "  warnings.warn(msg, FutureWarning)\n"
     ]
    },
    {
     "data": {
      "text/plain": [
       "<AxesSubplot:title={'center':'Distribution of Transaction Time'}, ylabel='Density'>"
      ]
     },
     "execution_count": 4,
     "metadata": {},
     "output_type": "execute_result"
    },
    {
     "data": {
      "image/png": "[encoded data removed]",
      "text/plain": [
       "<Figure size 1080x504 with 1 Axes>"
      ]
     },
     "metadata": {
      "needs_background": "light"
     },
     "output_type": "display_data"
    }
   ],
   "source": [
    "# Time Distribution plot for transactions \n",
    "plt.figure(figsize=(15,7))\n",
    "\n",
    "plt.title('Distribution of Transaction Time')\n",
    "sns.distplot(df['Timestamp'].values/(60*60))"
   ]
  },
  {
   "cell_type": "code",
   "execution_count": 5,
   "id": "adcf0e02",
   "metadata": {
    "execution": {
     "iopub.execute_input": "2021-11-07T19:14:45.237009Z",
     "iopub.status.busy": "2021-11-07T19:14:45.236039Z",
     "iopub.status.idle": "2021-11-07T19:14:58.988382Z",
     "shell.execute_reply": "2021-11-07T19:14:58.987724Z",
     "shell.execute_reply.started": "2021-11-07T19:05:55.431079Z"
    },
    "papermill": {
     "duration": 13.764824,
     "end_time": "2021-11-07T19:14:58.988534",
     "exception": false,
     "start_time": "2021-11-07T19:14:45.223710",
     "status": "completed"
    },
    "tags": []
   },
   "outputs": [
    {
     "data": {
      "image/png": "[encoded data removed]",
      "text/plain": [
       "<Figure size 576x576 with 1 Axes>"
      ]
     },
     "metadata": {
      "needs_background": "light"
     },
     "output_type": "display_data"
    }
   ],
   "source": [
    "#Scatter plot between Timestamp and Open\n",
    "\n",
    "fig = plt.figure(figsize = (8,8))\n",
    "plt.scatter(df.Open, df.Timestamp.values/(60*60),alpha=0.5,label='Non Fraud')\n",
    "plt.scatter(df.Open, df.Timestamp.values/(60*60),alpha=1,label='Fraud')\n",
    "plt.xlabel('Timestamp')\n",
    "plt.ylabel('Open')\n",
    "plt.title('Scatter plot between Open price and Time ')\n",
    "plt.show()"
   ]
  },
  {
   "cell_type": "code",
   "execution_count": 6,
   "id": "ec8016fe",
   "metadata": {
    "execution": {
     "iopub.execute_input": "2021-11-07T19:14:59.021999Z",
     "iopub.status.busy": "2021-11-07T19:14:59.021105Z",
     "iopub.status.idle": "2021-11-07T19:15:00.171338Z",
     "shell.execute_reply": "2021-11-07T19:15:00.170594Z",
     "shell.execute_reply.started": "2021-11-07T19:10:08.584194Z"
    },
    "papermill": {
     "duration": 1.172543,
     "end_time": "2021-11-07T19:15:00.171488",
     "exception": false,
     "start_time": "2021-11-07T19:14:58.998945",
     "status": "completed"
    },
    "tags": []
   },
   "outputs": [
    {
     "data": {
      "image/png": "[encoded data removed]",
      "text/plain": [
       "<Figure size 432x288 with 1 Axes>"
      ]
     },
     "metadata": {
      "needs_background": "light"
     },
     "output_type": "display_data"
    }
   ],
   "source": [
    "\n",
    "\n",
    "bins = np.linspace(200, 2000, 100)\n",
    "plt.hist(df.High, bins, alpha=1, density=True)\n",
    "plt.hist(df.High, bins, alpha=1, density=True)\n",
    "plt.legend(loc='upper right')\n",
    "plt.title(\"High price\")\n",
    "plt.xlabel(\"Amount\")\n",
    "plt.ylabel(\"Percentage of increasing\")\n",
    "plt.show()"
   ]
  },
  {
   "cell_type": "code",
   "execution_count": 7,
   "id": "9ff763e1",
   "metadata": {
    "execution": {
     "iopub.execute_input": "2021-11-07T19:15:00.204427Z",
     "iopub.status.busy": "2021-11-07T19:15:00.203727Z",
     "iopub.status.idle": "2021-11-07T19:15:01.364335Z",
     "shell.execute_reply": "2021-11-07T19:15:01.363765Z",
     "shell.execute_reply.started": "2021-11-07T19:11:49.152946Z"
    },
    "papermill": {
     "duration": 1.181533,
     "end_time": "2021-11-07T19:15:01.364489",
     "exception": false,
     "start_time": "2021-11-07T19:15:00.182956",
     "status": "completed"
    },
    "tags": []
   },
   "outputs": [
    {
     "data": {
      "image/png": "[encoded data removed]",
      "text/plain": [
       "<Figure size 432x288 with 1 Axes>"
      ]
     },
     "metadata": {
      "needs_background": "light"
     },
     "output_type": "display_data"
    }
   ],
   "source": [
    "\n",
    "\n",
    "bins = np.linspace(200, 2000, 100)\n",
    "plt.hist(df.Low, bins, alpha=1, density=True)\n",
    "plt.hist(df.Low, bins, alpha=1, density=True)\n",
    "plt.legend(loc='upper right')\n",
    "plt.title(\"Low price\")\n",
    "plt.xlabel(\"Amount\")\n",
    "plt.ylabel(\"Percentage of decreasing\")\n",
    "plt.show()"
   ]
  }
 ],
 "metadata": {
  "kernelspec": {
   "display_name": "Python 3",
   "language": "python",
   "name": "python3"
  },
  "language_info": {
   "codemirror_mode": {
    "name": "ipython",
    "version": 3
   },
   "file_extension": ".py",
   "mimetype": "text/x-python",
   "name": "python",
   "nbconvert_exporter": "python",
   "pygments_lexer": "ipython3",
   "version": "3.7.10"
  },
  "papermill": {
   "default_parameters": {},
   "duration": 61.103699,
   "end_time": "2021-11-07T19:15:02.088690",
   "environment_variables": {},
   "exception": null,
   "input_path": "__notebook__.ipynb",
   "output_path": "__notebook__.ipynb",
   "parameters": {},
   "start_time": "2021-11-07T19:14:00.984991",
   "version": "2.3.3"
  }
 },
 "nbformat": 4,
 "nbformat_minor": 5
}
